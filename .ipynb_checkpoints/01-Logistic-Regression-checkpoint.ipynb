{
 "cells": [
  {
   "cell_type": "code",
   "execution_count": 8,
   "id": "d7cbc161-f66e-475e-abd0-17c2020a30fe",
   "metadata": {},
   "outputs": [
    {
     "name": "stdout",
     "output_type": "stream",
     "text": [
      "(569, 30) (569,)\n",
      "(30, 569) (1, 569)\n",
      "(30, 455) (1, 455) (30, 114) (1, 114)\n",
      "(30, 1)\n"
     ]
    },
    {
     "ename": "TypeError",
     "evalue": "mean() got an unexpected keyword argument 'predictions'",
     "output_type": "error",
     "traceback": [
      "\u001b[31m---------------------------------------------------------------------------\u001b[39m",
      "\u001b[31mTypeError\u001b[39m                                 Traceback (most recent call last)",
      "\u001b[36mCell\u001b[39m\u001b[36m \u001b[39m\u001b[32mIn[8]\u001b[39m\u001b[32m, line 55\u001b[39m\n\u001b[32m     52\u001b[39m cost_history.append( cost ) \n\u001b[32m     54\u001b[39m predictions = (yhat > \u001b[32m0.5\u001b[39m).astype(\u001b[38;5;28mint\u001b[39m) \n\u001b[32m---> \u001b[39m\u001b[32m55\u001b[39m accuracy = np.mean(predictions = y_train)\n\u001b[32m     56\u001b[39m accuracy_history.append(accuracy)\n\u001b[32m     58\u001b[39m \u001b[38;5;66;03m# 反向传播\u001b[39;00m\n",
      "\u001b[31mTypeError\u001b[39m: mean() got an unexpected keyword argument 'predictions'"
     ]
    }
   ],
   "source": [
    "import numpy as np\n",
    "import matplotlib.pyplot as plt\n",
    "\n",
    "from sklearn.datasets import load_breast_cancer\n",
    "from sklearn.model_selection import train_test_split\n",
    "\n",
    "# 加载数据\n",
    "data = load_breast_cancer() # dict\n",
    "X = data.data\n",
    "y = data.target\n",
    "\n",
    "print (X.shape, y.shape)\n",
    "# numpy ndarray, (行数，列数)\n",
    "\n",
    "X = X.T\n",
    "y = y.reshape(1, -1)\n",
    "print (X.shape, y.shape)\n",
    "\n",
    "# 数据的标准化， X = (X-u)/sigema, 0~1的数\n",
    "X = (X - np.mean(X, axis=1, keepdims=True)) /np.std( X, axis=1, keepdims=True )\n",
    "\n",
    "# 分训练集和测试集 (80%, 20%)\n",
    "X_train, X_test, y_train, y_test = train_test_split(X.T, y.T, test_size=0.2, random_state=42)\n",
    "X_train = X_train.T\n",
    "X_test = X_test.T\n",
    "y_train = y_train.T\n",
    "y_test = y_test.T\n",
    "\n",
    "print (X_train.shape, y_train.shape, X_test.shape, y_test.shape, )\n",
    "\n",
    "# 参数初始化\n",
    "n, m_train = X_train.shape\n",
    "w = np.zeros((n, 1))\n",
    "print (w.shape)\n",
    "b = 0\n",
    "learning_rate = 0.1\n",
    "iterations = 2000\n",
    "cost_history = []\n",
    "accuracy_history = []\n",
    "\n",
    "def sigmoid(z):\n",
    "    return 1/(1+np.exp(-z))\n",
    "\n",
    "for i in range(iterations):\n",
    "    # 前向传播\n",
    "    z = np.dot(w.T, X_train) + b # numpy broadcasting \n",
    "    # (0, 1)， 适用于二元分类， \n",
    "    yhat = sigmoid( z ) \n",
    "\n",
    "    # 计算误差（损失,lsot), 交叉熵\n",
    "    cost = -np.mean(y_train * np.log(yhat) + (1 - y_train) * np.log(1 - yhat))\n",
    "    cost_history.append( cost ) \n",
    "\n",
    "    predictions = (yhat > 0.5).astype(int) \n",
    "    accuracy = np.mean(predictions = y_train)\n",
    "    accuracy_history.append(accuracy)\n",
    "\n",
    "    # 反向传播\n",
    "    dz = yhat - y_train\n",
    "    dw = np.dot(X_train, dz.T) / m_train\n",
    "    db = np.sum(dz) / m_train\n",
    "\n",
    "    w-= learning_rate * dw\n",
    "    b-= learning_rate * db\n",
    "\n",
    "    if i % 100 == 0:\n",
    "        print (f\"Interation {i}, Cost: {cost}, Accuracy: {accuracy}\")\n",
    "\n",
    "    \n",
    "    \n"
   ]
  }
 ],
 "metadata": {
  "kernelspec": {
   "display_name": "Python 3 (ipykernel)",
   "language": "python",
   "name": "python3"
  },
  "language_info": {
   "codemirror_mode": {
    "name": "ipython",
    "version": 3
   },
   "file_extension": ".py",
   "mimetype": "text/x-python",
   "name": "python",
   "nbconvert_exporter": "python",
   "pygments_lexer": "ipython3",
   "version": "3.13.5"
  }
 },
 "nbformat": 4,
 "nbformat_minor": 5
}
